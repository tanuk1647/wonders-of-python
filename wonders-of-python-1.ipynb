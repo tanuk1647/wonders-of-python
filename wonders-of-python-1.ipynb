{
 "cells": [
  {
   "cell_type": "markdown",
   "metadata": {},
   "source": [
    "# Pythonの不思議（そしてもう一つのFizzBuzz）\n",
    "\n",
    "本記事では、以下の不思議を取り上げます。\n",
    "\n",
    "- インスタンスメソッドがクラスメソッド\n",
    "- クラスメソッドが関数\n",
    "- rangeがrange\n",
    "- 定数がない\n",
    "- 関数合成する関数がない\n",
    "\n",
    "道中、[ファンファンのファン問題](https://qiita.com/yamamoto_hiroya/items/2633491dd4c7f6550c1d)を解きます。\n",
    "\n",
    "最後に、FizzBuzzを関数型言語っぽく、解きます。"
   ]
  },
  {
   "cell_type": "markdown",
   "metadata": {},
   "source": [
    "## インスタンスメソッドがクラスメソッド\n",
    "\n",
    "あ…ありのまま、今起こった事を話すぜ！\n",
    "\n",
    "「おれは、そいつをインスタンスメソッドだと思ったら、いつのまにかクラスメソッドだった」"
   ]
  },
  {
   "cell_type": "code",
   "execution_count": 1,
   "metadata": {},
   "outputs": [
    {
     "name": "stdout",
     "output_type": "stream",
     "text": [
      "3\n",
      "3\n"
     ]
    }
   ],
   "source": [
    "class Hoge:\n",
    "    def __init__(self, j):\n",
    "        self.j = j\n",
    "    \n",
    "    def fuga(self, i):\n",
    "        return i + self.j\n",
    "\n",
    "# インスタンスメソッドだと思ったら\n",
    "h = Hoge(1)\n",
    "print(h.fuga(2))\n",
    "\n",
    "# クラスメソッドだった\n",
    "print(Hoge.fuga(h, 2))"
   ]
  },
  {
   "cell_type": "markdown",
   "metadata": {},
   "source": [
    "`h.fuga(2)`は、`Hoge.fuga(h, 2)`の構文糖衣なんですね…。"
   ]
  },
  {
   "cell_type": "markdown",
   "metadata": {},
   "source": [
    "## クラスメソッドが関数\n",
    "\n",
    "あ…ありのまま、今起こった事を話すぜ！\n",
    "\n",
    "「おれは、そいつをクラスメソッドだと思ったら、いつのまにかファンクションだった」"
   ]
  },
  {
   "cell_type": "code",
   "execution_count": 2,
   "metadata": {},
   "outputs": [
    {
     "name": "stdout",
     "output_type": "stream",
     "text": [
      "5\n",
      "<class 'function'>\n",
      "6\n"
     ]
    }
   ],
   "source": [
    "class Hoge:\n",
    "    def __init__(self, j):\n",
    "        self.j = j\n",
    "    \n",
    "    def fuga(self, i):\n",
    "        return i + self.j\n",
    "\n",
    "# クラスメソッドだと思ったら\n",
    "h = Hoge(3)\n",
    "print(Hoge.fuga(h, 2))\n",
    "\n",
    "# ファンクションだった\n",
    "print(type(Hoge.fuga))\n",
    "\n",
    "# 後付けメソッド\n",
    "def piyo(myself, i):\n",
    "    return i * myself.j\n",
    "Hoge.piyo = piyo\n",
    "print(h.piyo(2))"
   ]
  },
  {
   "cell_type": "markdown",
   "metadata": {},
   "source": [
    "インスタンスメソッド → クラスメソッド → ファンクション（関数）とつながりました。\n",
    "\n",
    "[参考サイト1](http://www.shido.info/py/python7.html)によれば、こういう事情があるようです。\n",
    "\n",
    ">Pyhton は基本的には（広い意味での）関数型言語で、オブジェクト指向はハッシュ表を使って後付したものです。 この点、もともとオブジェクト指向言語として設計された C++, Java, Ruby などとは違います。\n",
    ">\n",
    ">Python は手続きの定義を、関数定義とメソッド定義に分ける代わりに、 全てを関数定義にし、メソッド定義として使う場合は第一引数をインスタンスに割り当てるという 約束事を導入しました。\n",
    ">\n",
    ">このようにしたのは、関数型言語は、オブジェクト指向言語より抽象性が高いという信念でしょう。 Python は関数型言語 Haskell から多大な影響を受けているいわれています。 実際、[code 2] で示したように関数型言語を使えばオブジェクト指向は簡単に実装できます。\n",
    "\n",
    "**Pythonは関数型言語だった**のか。一時期Haskellにハマっていた私にとっては、胸熱なことです。\n",
    "\n",
    "以下、ここまでの参考サイトです。\n",
    "\n",
    "- [Python のクラスシステム](http://www.shido.info/py/python7.html)\n",
    "- [和訳 なぜPythonのメソッド引数に明示的にselfと書くのか](https://coreblog.org/ats/translation-of-why-explicit-self-has-to-stay/)\n",
    "- [Python言語リファレンス/3.データモデル](https://docs.python.org/ja/3/reference/datamodel.html#index-35)\n",
    "\n",
    "なお、デコレータ`@classmethod`についても、ふれておかねばなるまい。"
   ]
  },
  {
   "cell_type": "code",
   "execution_count": 3,
   "metadata": {},
   "outputs": [
    {
     "name": "stdout",
     "output_type": "stream",
     "text": [
      "5\n",
      "5\n"
     ]
    }
   ],
   "source": [
    "class Hoge:\n",
    "    j = 2\n",
    "    \n",
    "    def fuga(cls, i):\n",
    "        return i + cls.j\n",
    "    \n",
    "    @classmethod\n",
    "    def piyo(cls, i):\n",
    "        return i + cls.j\n",
    "\n",
    "print(Hoge.fuga(Hoge, 3))\n",
    "\n",
    "# 第一引数を省略可能となる\n",
    "print(Hoge.piyo(3))"
   ]
  },
  {
   "cell_type": "markdown",
   "metadata": {},
   "source": [
    "## rangeがrange\n",
    "\n",
    "あ…ありのまま、今起こった事を話すぜ！\n",
    "\n",
    "「おれは、rangeをリストだと思ったら、いつのまにかrangeだった」"
   ]
  },
  {
   "cell_type": "code",
   "execution_count": 4,
   "metadata": {},
   "outputs": [
    {
     "name": "stdout",
     "output_type": "stream",
     "text": [
      "range(0, 10)\n",
      "[0 1 2 3 4 5 6 7 8 9]\n"
     ]
    }
   ],
   "source": [
    "print(range(10))\n",
    "\n",
    "import numpy as np\n",
    "print(np.arange(10))"
   ]
  },
  {
   "cell_type": "markdown",
   "metadata": {},
   "source": [
    "rangeをprintしても、つれない結果を返してくれます。numpyのarangeのような結果を返してくれれば良いのにね。\n",
    "\n",
    "実は、これはPython3からの仕様です。Googleアカウントをお持ちの方は、[Google Colaboratory](https://colab.research.google.com/notebooks/welcome.ipynb)でランタイムをPython2に設定して試してみれば分かりますが、Python2では、rangeはarangeと同様の結果を返してくれます。\n",
    "\n",
    "これについては、[Pythonチュートリアル](https://docs.python.jp/3/tutorial/controlflow.html#the-range-function)に記載があります。\n",
    "\n",
    ">range() が返すオブジェクトは、いろいろな点でリストであるかのように振る舞いますが、本当はリストではありません。これは、イテレートした時に望んだ数列の連続した要素を返すオブジェクトです。しかし実際にリストを作るわけではないので、スペースの節約になります。\n",
    ">\n",
    ">このようなオブジェクトは イテラブル (iterable) と呼ばれます。これらは関数やコンストラクタのターゲットとして、あるだけの項目を逐次与えるのに適しています。 for 文がそのような イテレータ であることはすでに見てきました。関数 list() もまた一つの例です。これはイテラブルからリストを生成します:\n",
    "\n",
    "そ、そうだったのか！\n",
    "\n",
    "イテラブルは面白いです。「実際にリストを作るわけではない」ため、「文脈が要求する回数だけ評価される潜在的な無限リストのようなもの」も作成できます。なんだか、すごくHaskellっぽいですね。\n",
    "\n",
    "例えば、以下は、[ファンファンのファン問題](https://qiita.com/yamamoto_hiroya/items/2633491dd4c7f6550c1d)に対する一解答となります。"
   ]
  },
  {
   "cell_type": "code",
   "execution_count": 5,
   "metadata": {},
   "outputs": [
    {
     "data": {
      "text/plain": [
       "['ファンファンファン ファンファンのファン',\n",
       " 'ファンファンファン ファンファンのファン',\n",
       " 'ファンファンファン ファンファンのファン',\n",
       " 'ファンファンファン ファンファンのファン',\n",
       " 'ファンファンファン ファンファンのファン',\n",
       " 'ファンファンファン ファンファンのファン',\n",
       " 'ファンファンファン ファンファンのファン',\n",
       " 'ファンファンファン ファンファンのファン',\n",
       " 'ファンファンファン ファンファンのファン',\n",
       " 'ファンファンファン ファンファンのファン']"
      ]
     },
     "execution_count": 5,
     "metadata": {},
     "output_type": "execute_result"
    }
   ],
   "source": [
    "def fanfun():\n",
    "    while True:\n",
    "        yield 'ファンファンファン ファンファンのファン'\n",
    "\n",
    "import itertools as it\n",
    "list(it.islice(fanfun(), 10))"
   ]
  },
  {
   "cell_type": "markdown",
   "metadata": {},
   "source": [
    "関数fanfun()は、何度でも「ファンファンファン ファンファンのファン」と歌い続けます。そのような**ジェネレータ**を生成します。\n",
    "\n",
    "fanfun()の定義内に、制御を表すiやnが出てこないのが、スマートですね。Haskellっぽいなぁ。"
   ]
  },
  {
   "cell_type": "markdown",
   "metadata": {},
   "source": [
    "## 定数がない\n",
    "\n",
    "[ポルナレフ](http://dic.nicovideo.jp/a/%E3%81%82...%E3%81%82%E3%82%8A%E3%81%AE%E3%81%BE%E3%81%BE%20%E4%BB%8A%20%E8%B5%B7%E3%81%93%E3%81%A3%E3%81%9F%E4%BA%8B%E3%82%92%E8%A9%B1%E3%81%99%E3%81%9C%21)にも飽きてきたので、普通に書きますが、Pythonにはユーザ定義の定数を宣言する方法がありません。[Pythonチュートリアル](http://iss.ndl.go.jp/books/R100000002-I027164236-00)の索引を65536回見直しましたが（嘘）、定数のての字も出てきません。\n",
    "\n",
    "[Python Cookbook, 2nd Edition](http://barbra-coco.dyndns.org/yuri/Python/python-cookbook-2nd-edition.pdf)のp238を参考に、定数クラスを自作することもできます。"
   ]
  },
  {
   "cell_type": "code",
   "execution_count": 6,
   "metadata": {},
   "outputs": [
    {
     "name": "stdout",
     "output_type": "stream",
     "text": [
      "An Error Occured: <class '__main__.Const.ConstError'>\n",
      "An Error Occured: <class '__main__.Const.ConstError'>\n",
      "[0, 2, 3]\n"
     ]
    }
   ],
   "source": [
    "import sys\n",
    "\n",
    "class Const():\n",
    "    class ConstError(TypeError):\n",
    "        pass\n",
    "    def __setattr__(self, name, value):\n",
    "        if name in self.__dict__:\n",
    "            raise self.ConstError(\"Can't rebind const(%s)\" % name)\n",
    "        self.__dict__[name] = value\n",
    "    def __delattr__(self, name):\n",
    "        if name in self.__dict__:\n",
    "            raise self.ConstError(\"Can't unbind const(%s)\" % name)\n",
    "        raise NameError(\"Doesn't exist const(%s)\" % name)\n",
    "\n",
    "c = Const()\n",
    "c.x = 1\n",
    "\n",
    "# 実験1\n",
    "try:\n",
    "    c.x = 1\n",
    "except:\n",
    "    print(\"An Error Occured:\", sys.exc_info()[0])\n",
    "\n",
    "# 実験2\n",
    "try:\n",
    "    del c.x\n",
    "except:\n",
    "    print(\"An Error Occured:\", sys.exc_info()[0])\n",
    "\n",
    "# 実験3\n",
    "c.y = [1, 2, 3]\n",
    "try:\n",
    "    c.y[0] = 0\n",
    "except:\n",
    "    print(\"An Error Occured:\", sys.exc_info()[0])\n",
    "\n",
    "print(c.y)"
   ]
  },
  {
   "cell_type": "markdown",
   "metadata": {},
   "source": [
    "実験1、実験2には成功していますね。\n",
    "\n",
    "しかし、実験3で値が変更できたように、定数化は浅いレベルに留まります。Pythonは**代入（substitution）**はできても、**束縛（binding）**はできないのです。代入と束縛の違いについては、以下記事を参照。\n",
    "\n",
    "- [関数型言語メモ (WIP)](https://qiita.com/japboy/items/5c8578a44023f249d922)\n",
    "\n",
    "関数型言語としてはちょいと残念。"
   ]
  },
  {
   "cell_type": "markdown",
   "metadata": {},
   "source": [
    "## 関数合成する関数がない\n",
    "\n",
    "functoolsには、関数に引数を部分適用する[関数](https://docs.python.jp/3/library/functools.html#functools.partial)なんてのもあって、オサレなのに、なぜか関数合成する関数がない。なんでなーん。"
   ]
  },
  {
   "cell_type": "code",
   "execution_count": 7,
   "metadata": {},
   "outputs": [
    {
     "name": "stdout",
     "output_type": "stream",
     "text": [
      "2\n"
     ]
    }
   ],
   "source": [
    "from operator import add\n",
    "from functools import partial\n",
    "\n",
    "increment = partial(add, 1)\n",
    "print(increment(1))"
   ]
  },
  {
   "cell_type": "markdown",
   "metadata": {},
   "source": [
    "ないなら作るまでのことです。以下サイトを参考にさせて頂きました。\n",
    "\n",
    "- [Python Tips：関数の合成をしたい](https://www.lifewithpython.com/2015/03/python-compose-functions.html)\n",
    "\n",
    "そして、FizzBuzzを関数型言語っぽく、解きます。リスト内包表記は使わない。"
   ]
  },
  {
   "cell_type": "code",
   "execution_count": 8,
   "metadata": {},
   "outputs": [
    {
     "name": "stdout",
     "output_type": "stream",
     "text": [
      "['1', '2', 'fizz', '4', 'buzz', 'fizz', '7', '8', 'fizz', 'buzz', '11', 'fizz', '13', '14', 'fizzbuzz', '16', '17', 'fizz', '19', 'buzz', 'fizz', '22', '23', 'fizz', 'buzz', '26', 'fizz', '28', '29', 'fizzbuzz', '31', '32', 'fizz', '34', 'buzz', 'fizz', '37', '38', 'fizz', 'buzz', '41', 'fizz', '43', '44', 'fizzbuzz', '46', '47', 'fizz', '49', 'buzz', 'fizz', '52', '53', 'fizz', 'buzz', '56', 'fizz', '58', '59', 'fizzbuzz', '61', '62', 'fizz', '64', 'buzz', 'fizz', '67', '68', 'fizz', 'buzz', '71', 'fizz', '73', '74', 'fizzbuzz', '76', '77', 'fizz', '79', 'buzz', 'fizz', '82', '83', 'fizz', 'buzz', '86', 'fizz', '88', '89', 'fizzbuzz', '91', '92', 'fizz', '94', 'buzz', 'fizz', '97', '98', 'fizz', 'buzz']\n"
     ]
    }
   ],
   "source": [
    "import itertools as it\n",
    "\n",
    "# 自然数を定義（無限！）\n",
    "natural = it.count(1)\n",
    "\n",
    "# fizzbuzzを定義\n",
    "def fizzbuzz1(n):\n",
    "    if n % 15 == 0:\n",
    "        return 'fizzbuzz'\n",
    "    elif n % 3 == 0:\n",
    "        return 'fizz'\n",
    "    elif n % 5 == 0:\n",
    "        return 'buzz'\n",
    "    else:\n",
    "        return str(n)\n",
    "\n",
    "# fizzbuzz数列（無限！）\n",
    "fizzbuzz = map(fizzbuzz1, natural)\n",
    "\n",
    "# 関数合成\n",
    "def compose(outer_func, inner_func):\n",
    "    def composed(*args, **kwds):\n",
    "        return outer_func(inner_func(*args, **kwds))\n",
    "    return composed\n",
    "\n",
    "# ジェネレータの先頭からリスト化\n",
    "take = compose(list, it.islice)\n",
    "\n",
    "# fizzbuzz実行！\n",
    "print(take(fizzbuzz, 100))"
   ]
  },
  {
   "cell_type": "markdown",
   "metadata": {},
   "source": [
    "## まとめ\n",
    "\n",
    "いろいろ書いたけど、私は今まで触った言語の中で、Pythonが一番好きです。\n",
    "\n",
    "（2018/9/10追記）\n",
    "[こちら](https://qiita.com/tanuk1647/items/f1a0e416efdb799a89c9)に続編を書いたので、よろしければ見てやってください。"
   ]
  },
  {
   "cell_type": "code",
   "execution_count": null,
   "metadata": {},
   "outputs": [],
   "source": []
  }
 ],
 "metadata": {
  "kernelspec": {
   "display_name": "introduction",
   "language": "python",
   "name": "introduction"
  },
  "language_info": {
   "codemirror_mode": {
    "name": "ipython",
    "version": 3
   },
   "file_extension": ".py",
   "mimetype": "text/x-python",
   "name": "python",
   "nbconvert_exporter": "python",
   "pygments_lexer": "ipython3",
   "version": "3.6.6"
  }
 },
 "nbformat": 4,
 "nbformat_minor": 2
}
